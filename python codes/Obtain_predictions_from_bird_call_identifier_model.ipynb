{
  "nbformat": 4,
  "nbformat_minor": 0,
  "metadata": {
    "colab": {
      "provenance": []
    },
    "kernelspec": {
      "name": "python3",
      "display_name": "Python 3"
    },
    "language_info": {
      "name": "python"
    }
  },
  "cells": [
    {
      "cell_type": "markdown",
      "source": [
        "##Obtain predictions from bird call identifier model"
      ],
      "metadata": {
        "id": "LxkB6938XBrk"
      }
    },
    {
      "cell_type": "markdown",
      "source": [
        "###Importing the libraries"
      ],
      "metadata": {
        "id": "AoBD_CD9XbVx"
      }
    },
    {
      "cell_type": "code",
      "execution_count": 1,
      "metadata": {
        "id": "cJHSgExcQl85"
      },
      "outputs": [],
      "source": [
        "import librosa\n",
        "import numpy as np\n",
        "import tensorflow as tf"
      ]
    },
    {
      "cell_type": "markdown",
      "source": [
        "### Loading the trained model"
      ],
      "metadata": {
        "id": "LCh7ZFBZXRei"
      }
    },
    {
      "cell_type": "code",
      "source": [
        "bird_model = tf.keras.models.load_model('bird_call_identifier.h5')"
      ],
      "metadata": {
        "id": "uJ3UDvSKRIvA"
      },
      "execution_count": 2,
      "outputs": []
    },
    {
      "cell_type": "markdown",
      "source": [
        "###Defining the bird species"
      ],
      "metadata": {
        "id": "efyeHfoyXkwb"
      }
    },
    {
      "cell_type": "code",
      "source": [
        "birds = [\"cinereous_tinamou\", \"great_tinamou\", \"brown_tinamu\"]"
      ],
      "metadata": {
        "id": "Qirg0LSERI0S"
      },
      "execution_count": 3,
      "outputs": []
    },
    {
      "cell_type": "markdown",
      "source": [
        "###Function for Extracting features"
      ],
      "metadata": {
        "id": "8UNfk6RjX1sj"
      }
    },
    {
      "cell_type": "code",
      "source": [
        "def extract_features(y, sr, n_mfcc=40):\n",
        "    mfccs = librosa.feature.mfcc(y=y, sr=sr, n_mfcc=n_mfcc)\n",
        "    return np.mean(mfccs.T, axis=0)"
      ],
      "metadata": {
        "id": "b5NRAoubRI2x"
      },
      "execution_count": 4,
      "outputs": []
    },
    {
      "cell_type": "markdown",
      "source": [
        "###Function for Predicting using the trained model\n"
      ],
      "metadata": {
        "id": "5OrQScKbYAmT"
      }
    },
    {
      "cell_type": "code",
      "source": [
        "def predict_bird_sound(file_path):\n",
        "    # Load the audio file\n",
        "    y, sr = librosa.load(file_path, sr=16000)\n",
        "\n",
        "    # Extract features\n",
        "    features = extract_features(y, sr)\n",
        "    features = np.expand_dims(features, axis=0)\n",
        "\n",
        "    # Predict using the model\n",
        "    prediction = bird_model.predict(features)\n",
        "    predicted_class = np.argmax(prediction)\n",
        "\n",
        "    return birds[predicted_class]"
      ],
      "metadata": {
        "id": "tPrjHq0WRI5B"
      },
      "execution_count": 5,
      "outputs": []
    },
    {
      "cell_type": "markdown",
      "source": [
        "###Predicting the result of a single observation"
      ],
      "metadata": {
        "id": "g0gL9p8kYgtT"
      }
    },
    {
      "cell_type": "code",
      "source": [
        "if __name__ == \"__main__\":\n",
        "    predicting_data = 'XC257243_c.mp3'\n",
        "    predicted_bird = predict_bird_sound(predicting_data)\n",
        "    print(f'The predicted bird species is: {predicted_bird}')"
      ],
      "metadata": {
        "colab": {
          "base_uri": "https://localhost:8080/"
        },
        "id": "-_ySzodURctv",
        "outputId": "10f8fb76-80bc-4216-d12c-460657d71056"
      },
      "execution_count": 9,
      "outputs": [
        {
          "output_type": "stream",
          "name": "stdout",
          "text": [
            "1/1 [==============================] - 0s 28ms/step\n",
            "The predicted bird species is: cinereous_tinamou\n"
          ]
        }
      ]
    }
  ]
}