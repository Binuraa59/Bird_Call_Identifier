{
  "nbformat": 4,
  "nbformat_minor": 0,
  "metadata": {
    "colab": {
      "provenance": []
    },
    "kernelspec": {
      "name": "python3",
      "display_name": "Python 3"
    },
    "language_info": {
      "name": "python"
    }
  },
  "cells": [
    {
      "cell_type": "markdown",
      "source": [
        "##Neural Network for Bird Call Identifier"
      ],
      "metadata": {
        "id": "clFdjIkgImTW"
      }
    },
    {
      "cell_type": "markdown",
      "source": [
        "###Importing the libraries"
      ],
      "metadata": {
        "id": "2xL0AFgwCt-o"
      }
    },
    {
      "cell_type": "code",
      "execution_count": 1,
      "metadata": {
        "id": "9qAywgaA-8dQ"
      },
      "outputs": [],
      "source": [
        "import numpy as np\n",
        "from sklearn.model_selection import train_test_split\n",
        "import tensorflow as tf\n",
        "from tensorflow.keras.models import Sequential\n",
        "from tensorflow.keras.layers import Dense, Dropout\n",
        "from tensorflow.keras.utils import to_categorical\n",
        "from sklearn.metrics import precision_score, recall_score, accuracy_score, classification_report"
      ]
    },
    {
      "cell_type": "markdown",
      "source": [
        "##Part 1 - Data Preprocessing"
      ],
      "metadata": {
        "id": "rVMLcpnEIvj_"
      }
    },
    {
      "cell_type": "markdown",
      "source": [
        "###Importing the dataset"
      ],
      "metadata": {
        "id": "EEgaQVLPCxsm"
      }
    },
    {
      "cell_type": "code",
      "source": [
        "X = np.load('features.npy')\n",
        "y = np.load('labels.npy')"
      ],
      "metadata": {
        "id": "Wk_u_gwR_M-b"
      },
      "execution_count": 2,
      "outputs": []
    },
    {
      "cell_type": "markdown",
      "source": [
        "###Split dataset to train,validation and test sets\n",
        "\n",
        "---\n",
        "\n"
      ],
      "metadata": {
        "id": "M-i-VHC3E2yP"
      }
    },
    {
      "cell_type": "code",
      "source": [
        "X_train, X_temp, y_train, y_temp = train_test_split(X, y, test_size=0.3, random_state=32)\n",
        "X_val, X_test, y_val, y_test = train_test_split(X_temp, y_temp, test_size=0.5, random_state=32)"
      ],
      "metadata": {
        "id": "lLnP9pPO_NGL"
      },
      "execution_count": 3,
      "outputs": []
    },
    {
      "cell_type": "code",
      "source": [
        "print(f\"Training set size: {X_train.shape[0]}\")\n",
        "print(f\"Validation set size: {X_val.shape[0]}\")\n",
        "print(f\"Test set size: {X_test.shape[0]}\")"
      ],
      "metadata": {
        "colab": {
          "base_uri": "https://localhost:8080/"
        },
        "id": "973hHIkn_NMC",
        "outputId": "9c4ed2c8-5eee-46a8-fab5-c950db5f1f4a"
      },
      "execution_count": 4,
      "outputs": [
        {
          "output_type": "stream",
          "name": "stdout",
          "text": [
            "Training set size: 315\n",
            "Validation set size: 67\n",
            "Test set size: 68\n"
          ]
        }
      ]
    },
    {
      "cell_type": "markdown",
      "source": [
        "###One-hot encode for categorical data"
      ],
      "metadata": {
        "id": "TdYj9vEzCyQ3"
      }
    },
    {
      "cell_type": "code",
      "source": [
        "y_train = to_categorical(y_train, num_classes=3)\n",
        "y_val = to_categorical(y_val, num_classes=3)\n",
        "y_test = to_categorical(y_test, num_classes=3)"
      ],
      "metadata": {
        "id": "xrdI2Rd-_ZW9"
      },
      "execution_count": 5,
      "outputs": []
    },
    {
      "cell_type": "markdown",
      "source": [
        "##Part 2 - Building the Neural Network"
      ],
      "metadata": {
        "id": "5mjydWtwI714"
      }
    },
    {
      "cell_type": "markdown",
      "source": [
        "###Initializing the Neural Network"
      ],
      "metadata": {
        "id": "qfWX8gBlFiW9"
      }
    },
    {
      "cell_type": "code",
      "source": [
        "bird_model = Sequential()"
      ],
      "metadata": {
        "id": "LfuP-K9w_Zct"
      },
      "execution_count": 6,
      "outputs": []
    },
    {
      "cell_type": "markdown",
      "source": [
        "###Adding the input layer and the first hidden layer"
      ],
      "metadata": {
        "id": "PMAakJHVJXxg"
      }
    },
    {
      "cell_type": "code",
      "source": [
        "bird_model.add(Dense(200, input_shape=(X_train.shape[1],), activation='relu'))\n",
        "bird_model.add(Dropout(0.5))"
      ],
      "metadata": {
        "id": "9mU77bomJE1B"
      },
      "execution_count": 7,
      "outputs": []
    },
    {
      "cell_type": "markdown",
      "source": [
        "###Adding the second hidden layer"
      ],
      "metadata": {
        "id": "XigQpI31Jf7J"
      }
    },
    {
      "cell_type": "code",
      "source": [
        "bird_model.add(Dense(100, activation='relu'))\n",
        "bird_model.add(Dropout(0.5))"
      ],
      "metadata": {
        "id": "fOHhx0zJJdOH"
      },
      "execution_count": 8,
      "outputs": []
    },
    {
      "cell_type": "markdown",
      "source": [
        "###Adding the output layer"
      ],
      "metadata": {
        "id": "e9OvtRssJonA"
      }
    },
    {
      "cell_type": "code",
      "source": [
        "bird_model.add(Dense(3, activation='softmax'))"
      ],
      "metadata": {
        "id": "G1HkFwErJdTv"
      },
      "execution_count": 9,
      "outputs": []
    },
    {
      "cell_type": "markdown",
      "source": [
        "##Part 3 - Training the Neural Network"
      ],
      "metadata": {
        "id": "K18ZHzDhJu4C"
      }
    },
    {
      "cell_type": "markdown",
      "source": [
        "###Compiling the Neural Network"
      ],
      "metadata": {
        "id": "x28e0kY7JwWZ"
      }
    },
    {
      "cell_type": "code",
      "source": [
        "bird_model.compile(loss='categorical_crossentropy', optimizer='adam', metrics=['accuracy'])"
      ],
      "metadata": {
        "id": "IRk5Qvvf_pTd"
      },
      "execution_count": 10,
      "outputs": []
    },
    {
      "cell_type": "markdown",
      "source": [
        "###Training the ANN on the Training set"
      ],
      "metadata": {
        "id": "dsnFA1j2J4LQ"
      }
    },
    {
      "cell_type": "code",
      "source": [
        "trainer = bird_model.fit(X_train, y_train, validation_data=(X_val, y_val), epochs=115, batch_size=16)"
      ],
      "metadata": {
        "colab": {
          "base_uri": "https://localhost:8080/"
        },
        "id": "Hr3pehzt_sp-",
        "outputId": "1a2661dc-1ee7-4317-c111-0a9b570c9049"
      },
      "execution_count": 11,
      "outputs": [
        {
          "output_type": "stream",
          "name": "stdout",
          "text": [
            "Epoch 1/115\n",
            "20/20 [==============================] - 3s 16ms/step - loss: 26.5312 - accuracy: 0.3683 - val_loss: 10.6452 - val_accuracy: 0.2985\n",
            "Epoch 2/115\n",
            "20/20 [==============================] - 0s 5ms/step - loss: 18.1698 - accuracy: 0.3905 - val_loss: 6.5848 - val_accuracy: 0.2836\n",
            "Epoch 3/115\n",
            "20/20 [==============================] - 0s 5ms/step - loss: 13.1869 - accuracy: 0.3810 - val_loss: 2.6650 - val_accuracy: 0.3731\n",
            "Epoch 4/115\n",
            "20/20 [==============================] - 0s 5ms/step - loss: 9.9893 - accuracy: 0.4381 - val_loss: 0.9847 - val_accuracy: 0.6866\n",
            "Epoch 5/115\n",
            "20/20 [==============================] - 0s 4ms/step - loss: 6.6978 - accuracy: 0.4095 - val_loss: 0.8724 - val_accuracy: 0.6567\n",
            "Epoch 6/115\n",
            "20/20 [==============================] - 0s 5ms/step - loss: 4.3913 - accuracy: 0.4540 - val_loss: 0.8900 - val_accuracy: 0.4925\n",
            "Epoch 7/115\n",
            "20/20 [==============================] - 0s 5ms/step - loss: 4.7689 - accuracy: 0.3746 - val_loss: 0.8510 - val_accuracy: 0.6866\n",
            "Epoch 8/115\n",
            "20/20 [==============================] - 0s 5ms/step - loss: 4.0318 - accuracy: 0.4381 - val_loss: 0.9203 - val_accuracy: 0.7164\n",
            "Epoch 9/115\n",
            "20/20 [==============================] - 0s 5ms/step - loss: 2.8970 - accuracy: 0.4095 - val_loss: 0.9685 - val_accuracy: 0.6567\n",
            "Epoch 10/115\n",
            "20/20 [==============================] - 0s 7ms/step - loss: 2.6686 - accuracy: 0.4127 - val_loss: 0.9592 - val_accuracy: 0.6716\n",
            "Epoch 11/115\n",
            "20/20 [==============================] - 0s 6ms/step - loss: 2.0268 - accuracy: 0.4667 - val_loss: 0.9911 - val_accuracy: 0.6567\n",
            "Epoch 12/115\n",
            "20/20 [==============================] - 0s 5ms/step - loss: 1.8274 - accuracy: 0.4825 - val_loss: 0.9774 - val_accuracy: 0.7015\n",
            "Epoch 13/115\n",
            "20/20 [==============================] - 0s 5ms/step - loss: 1.7549 - accuracy: 0.4730 - val_loss: 0.9690 - val_accuracy: 0.7015\n",
            "Epoch 14/115\n",
            "20/20 [==============================] - 0s 5ms/step - loss: 1.4696 - accuracy: 0.4444 - val_loss: 1.0034 - val_accuracy: 0.7164\n",
            "Epoch 15/115\n",
            "20/20 [==============================] - 0s 5ms/step - loss: 1.5234 - accuracy: 0.4603 - val_loss: 1.0230 - val_accuracy: 0.6567\n",
            "Epoch 16/115\n",
            "20/20 [==============================] - 0s 6ms/step - loss: 1.3844 - accuracy: 0.5016 - val_loss: 1.0267 - val_accuracy: 0.6567\n",
            "Epoch 17/115\n",
            "20/20 [==============================] - 0s 5ms/step - loss: 1.3063 - accuracy: 0.4889 - val_loss: 1.0300 - val_accuracy: 0.6119\n",
            "Epoch 18/115\n",
            "20/20 [==============================] - 0s 6ms/step - loss: 1.3124 - accuracy: 0.4794 - val_loss: 1.0152 - val_accuracy: 0.5821\n",
            "Epoch 19/115\n",
            "20/20 [==============================] - 0s 7ms/step - loss: 1.3356 - accuracy: 0.4508 - val_loss: 1.0357 - val_accuracy: 0.5672\n",
            "Epoch 20/115\n",
            "20/20 [==============================] - 0s 5ms/step - loss: 1.2623 - accuracy: 0.4635 - val_loss: 1.0359 - val_accuracy: 0.6567\n",
            "Epoch 21/115\n",
            "20/20 [==============================] - 0s 5ms/step - loss: 1.1611 - accuracy: 0.4730 - val_loss: 1.0311 - val_accuracy: 0.6567\n",
            "Epoch 22/115\n",
            "20/20 [==============================] - 0s 5ms/step - loss: 1.1619 - accuracy: 0.4921 - val_loss: 1.0013 - val_accuracy: 0.6866\n",
            "Epoch 23/115\n",
            "20/20 [==============================] - 0s 5ms/step - loss: 1.1089 - accuracy: 0.5397 - val_loss: 0.9908 - val_accuracy: 0.6716\n",
            "Epoch 24/115\n",
            "20/20 [==============================] - 0s 4ms/step - loss: 1.0928 - accuracy: 0.4921 - val_loss: 0.9946 - val_accuracy: 0.7015\n",
            "Epoch 25/115\n",
            "20/20 [==============================] - 0s 5ms/step - loss: 1.2011 - accuracy: 0.5302 - val_loss: 0.9583 - val_accuracy: 0.7164\n",
            "Epoch 26/115\n",
            "20/20 [==============================] - 0s 5ms/step - loss: 0.9795 - accuracy: 0.5206 - val_loss: 0.9220 - val_accuracy: 0.7910\n",
            "Epoch 27/115\n",
            "20/20 [==============================] - 0s 6ms/step - loss: 1.0504 - accuracy: 0.4952 - val_loss: 0.9202 - val_accuracy: 0.8060\n",
            "Epoch 28/115\n",
            "20/20 [==============================] - 0s 6ms/step - loss: 1.0588 - accuracy: 0.5714 - val_loss: 0.9589 - val_accuracy: 0.7313\n",
            "Epoch 29/115\n",
            "20/20 [==============================] - 0s 6ms/step - loss: 1.0771 - accuracy: 0.5302 - val_loss: 0.9149 - val_accuracy: 0.8060\n",
            "Epoch 30/115\n",
            "20/20 [==============================] - 0s 4ms/step - loss: 1.0351 - accuracy: 0.5587 - val_loss: 0.9284 - val_accuracy: 0.7761\n",
            "Epoch 31/115\n",
            "20/20 [==============================] - 0s 6ms/step - loss: 1.0376 - accuracy: 0.5270 - val_loss: 0.9263 - val_accuracy: 0.7463\n",
            "Epoch 32/115\n",
            "20/20 [==============================] - 0s 5ms/step - loss: 1.0297 - accuracy: 0.5270 - val_loss: 0.9140 - val_accuracy: 0.8060\n",
            "Epoch 33/115\n",
            "20/20 [==============================] - 0s 5ms/step - loss: 0.9481 - accuracy: 0.5492 - val_loss: 0.9337 - val_accuracy: 0.7463\n",
            "Epoch 34/115\n",
            "20/20 [==============================] - 0s 5ms/step - loss: 0.9571 - accuracy: 0.5905 - val_loss: 0.8973 - val_accuracy: 0.7910\n",
            "Epoch 35/115\n",
            "20/20 [==============================] - 0s 5ms/step - loss: 0.9839 - accuracy: 0.5206 - val_loss: 0.8718 - val_accuracy: 0.8507\n",
            "Epoch 36/115\n",
            "20/20 [==============================] - 0s 5ms/step - loss: 0.9361 - accuracy: 0.5683 - val_loss: 0.8102 - val_accuracy: 0.8358\n",
            "Epoch 37/115\n",
            "20/20 [==============================] - 0s 7ms/step - loss: 0.9719 - accuracy: 0.5524 - val_loss: 0.8280 - val_accuracy: 0.8657\n",
            "Epoch 38/115\n",
            "20/20 [==============================] - 0s 6ms/step - loss: 0.8764 - accuracy: 0.5841 - val_loss: 0.7943 - val_accuracy: 0.7910\n",
            "Epoch 39/115\n",
            "20/20 [==============================] - 0s 5ms/step - loss: 0.8428 - accuracy: 0.5778 - val_loss: 0.7146 - val_accuracy: 0.8806\n",
            "Epoch 40/115\n",
            "20/20 [==============================] - 0s 5ms/step - loss: 1.0318 - accuracy: 0.5429 - val_loss: 0.7338 - val_accuracy: 0.8358\n",
            "Epoch 41/115\n",
            "20/20 [==============================] - 0s 5ms/step - loss: 0.8595 - accuracy: 0.6159 - val_loss: 0.6663 - val_accuracy: 0.8358\n",
            "Epoch 42/115\n",
            "20/20 [==============================] - 0s 5ms/step - loss: 0.9087 - accuracy: 0.5968 - val_loss: 0.7007 - val_accuracy: 0.8657\n",
            "Epoch 43/115\n",
            "20/20 [==============================] - 0s 5ms/step - loss: 0.9025 - accuracy: 0.5968 - val_loss: 0.7155 - val_accuracy: 0.8657\n",
            "Epoch 44/115\n",
            "20/20 [==============================] - 0s 4ms/step - loss: 0.8438 - accuracy: 0.5968 - val_loss: 0.6495 - val_accuracy: 0.8806\n",
            "Epoch 45/115\n",
            "20/20 [==============================] - 0s 7ms/step - loss: 0.8488 - accuracy: 0.6254 - val_loss: 0.5969 - val_accuracy: 0.8955\n",
            "Epoch 46/115\n",
            "20/20 [==============================] - 0s 7ms/step - loss: 0.7901 - accuracy: 0.6667 - val_loss: 0.5654 - val_accuracy: 0.8507\n",
            "Epoch 47/115\n",
            "20/20 [==============================] - 0s 5ms/step - loss: 0.7818 - accuracy: 0.6349 - val_loss: 0.5418 - val_accuracy: 0.8806\n",
            "Epoch 48/115\n",
            "20/20 [==============================] - 0s 5ms/step - loss: 0.7594 - accuracy: 0.6540 - val_loss: 0.5003 - val_accuracy: 0.8657\n",
            "Epoch 49/115\n",
            "20/20 [==============================] - 0s 4ms/step - loss: 0.7440 - accuracy: 0.6762 - val_loss: 0.5834 - val_accuracy: 0.8806\n",
            "Epoch 50/115\n",
            "20/20 [==============================] - 0s 4ms/step - loss: 0.7225 - accuracy: 0.6698 - val_loss: 0.5836 - val_accuracy: 0.8657\n",
            "Epoch 51/115\n",
            "20/20 [==============================] - 0s 4ms/step - loss: 0.8193 - accuracy: 0.6952 - val_loss: 0.5213 - val_accuracy: 0.8657\n",
            "Epoch 52/115\n",
            "20/20 [==============================] - 0s 4ms/step - loss: 0.7049 - accuracy: 0.7238 - val_loss: 0.4659 - val_accuracy: 0.8955\n",
            "Epoch 53/115\n",
            "20/20 [==============================] - 0s 4ms/step - loss: 0.7425 - accuracy: 0.6952 - val_loss: 0.4861 - val_accuracy: 0.8955\n",
            "Epoch 54/115\n",
            "20/20 [==============================] - 0s 6ms/step - loss: 0.6419 - accuracy: 0.7238 - val_loss: 0.4173 - val_accuracy: 0.9254\n",
            "Epoch 55/115\n",
            "20/20 [==============================] - 0s 6ms/step - loss: 0.6553 - accuracy: 0.7143 - val_loss: 0.4160 - val_accuracy: 0.8955\n",
            "Epoch 56/115\n",
            "20/20 [==============================] - 0s 6ms/step - loss: 0.7661 - accuracy: 0.7111 - val_loss: 0.4488 - val_accuracy: 0.8657\n",
            "Epoch 57/115\n",
            "20/20 [==============================] - 0s 6ms/step - loss: 0.6917 - accuracy: 0.7048 - val_loss: 0.4416 - val_accuracy: 0.8806\n",
            "Epoch 58/115\n",
            "20/20 [==============================] - 0s 6ms/step - loss: 0.6062 - accuracy: 0.7333 - val_loss: 0.4250 - val_accuracy: 0.8806\n",
            "Epoch 59/115\n",
            "20/20 [==============================] - 0s 5ms/step - loss: 0.6904 - accuracy: 0.7111 - val_loss: 0.3663 - val_accuracy: 0.8955\n",
            "Epoch 60/115\n",
            "20/20 [==============================] - 0s 5ms/step - loss: 0.6482 - accuracy: 0.7492 - val_loss: 0.3297 - val_accuracy: 0.8955\n",
            "Epoch 61/115\n",
            "20/20 [==============================] - 0s 4ms/step - loss: 0.5442 - accuracy: 0.8063 - val_loss: 0.3335 - val_accuracy: 0.8806\n",
            "Epoch 62/115\n",
            "20/20 [==============================] - 0s 5ms/step - loss: 0.5967 - accuracy: 0.7429 - val_loss: 0.3427 - val_accuracy: 0.8806\n",
            "Epoch 63/115\n",
            "20/20 [==============================] - 0s 7ms/step - loss: 0.5672 - accuracy: 0.7714 - val_loss: 0.3365 - val_accuracy: 0.8955\n",
            "Epoch 64/115\n",
            "20/20 [==============================] - 0s 5ms/step - loss: 0.5850 - accuracy: 0.7810 - val_loss: 0.3055 - val_accuracy: 0.8955\n",
            "Epoch 65/115\n",
            "20/20 [==============================] - 0s 6ms/step - loss: 0.5366 - accuracy: 0.7873 - val_loss: 0.3007 - val_accuracy: 0.9104\n",
            "Epoch 66/115\n",
            "20/20 [==============================] - 0s 5ms/step - loss: 0.5159 - accuracy: 0.7746 - val_loss: 0.3262 - val_accuracy: 0.9104\n",
            "Epoch 67/115\n",
            "20/20 [==============================] - 0s 4ms/step - loss: 0.5444 - accuracy: 0.7651 - val_loss: 0.3060 - val_accuracy: 0.8955\n",
            "Epoch 68/115\n",
            "20/20 [==============================] - 0s 5ms/step - loss: 0.5880 - accuracy: 0.7619 - val_loss: 0.2929 - val_accuracy: 0.9104\n",
            "Epoch 69/115\n",
            "20/20 [==============================] - 0s 5ms/step - loss: 0.5931 - accuracy: 0.7651 - val_loss: 0.3366 - val_accuracy: 0.8806\n",
            "Epoch 70/115\n",
            "20/20 [==============================] - 0s 5ms/step - loss: 0.4904 - accuracy: 0.7746 - val_loss: 0.2932 - val_accuracy: 0.8955\n",
            "Epoch 71/115\n",
            "20/20 [==============================] - 0s 6ms/step - loss: 0.5010 - accuracy: 0.7937 - val_loss: 0.2835 - val_accuracy: 0.9104\n",
            "Epoch 72/115\n",
            "20/20 [==============================] - 0s 7ms/step - loss: 0.5764 - accuracy: 0.7778 - val_loss: 0.2737 - val_accuracy: 0.9104\n",
            "Epoch 73/115\n",
            "20/20 [==============================] - 0s 9ms/step - loss: 0.5125 - accuracy: 0.7714 - val_loss: 0.2857 - val_accuracy: 0.9254\n",
            "Epoch 74/115\n",
            "20/20 [==============================] - 0s 8ms/step - loss: 0.5038 - accuracy: 0.7905 - val_loss: 0.2661 - val_accuracy: 0.9254\n",
            "Epoch 75/115\n",
            "20/20 [==============================] - 0s 7ms/step - loss: 0.4165 - accuracy: 0.8349 - val_loss: 0.2444 - val_accuracy: 0.9104\n",
            "Epoch 76/115\n",
            "20/20 [==============================] - 0s 7ms/step - loss: 0.5116 - accuracy: 0.7841 - val_loss: 0.2703 - val_accuracy: 0.8806\n",
            "Epoch 77/115\n",
            "20/20 [==============================] - 0s 7ms/step - loss: 0.4429 - accuracy: 0.8286 - val_loss: 0.2415 - val_accuracy: 0.8806\n",
            "Epoch 78/115\n",
            "20/20 [==============================] - 0s 7ms/step - loss: 0.4553 - accuracy: 0.8095 - val_loss: 0.2428 - val_accuracy: 0.8806\n",
            "Epoch 79/115\n",
            "20/20 [==============================] - 0s 8ms/step - loss: 0.4707 - accuracy: 0.8190 - val_loss: 0.2228 - val_accuracy: 0.9104\n",
            "Epoch 80/115\n",
            "20/20 [==============================] - 0s 8ms/step - loss: 0.4238 - accuracy: 0.8381 - val_loss: 0.1962 - val_accuracy: 0.9254\n",
            "Epoch 81/115\n",
            "20/20 [==============================] - 0s 8ms/step - loss: 0.4484 - accuracy: 0.8349 - val_loss: 0.1906 - val_accuracy: 0.9254\n",
            "Epoch 82/115\n",
            "20/20 [==============================] - 0s 7ms/step - loss: 0.3441 - accuracy: 0.8698 - val_loss: 0.1983 - val_accuracy: 0.8806\n",
            "Epoch 83/115\n",
            "20/20 [==============================] - 0s 9ms/step - loss: 0.3871 - accuracy: 0.8476 - val_loss: 0.1751 - val_accuracy: 0.9104\n",
            "Epoch 84/115\n",
            "20/20 [==============================] - 0s 9ms/step - loss: 0.3940 - accuracy: 0.8667 - val_loss: 0.1864 - val_accuracy: 0.8955\n",
            "Epoch 85/115\n",
            "20/20 [==============================] - 0s 11ms/step - loss: 0.4052 - accuracy: 0.8286 - val_loss: 0.1729 - val_accuracy: 0.9403\n",
            "Epoch 86/115\n",
            "20/20 [==============================] - 0s 9ms/step - loss: 0.4096 - accuracy: 0.8063 - val_loss: 0.1897 - val_accuracy: 0.9254\n",
            "Epoch 87/115\n",
            "20/20 [==============================] - 0s 10ms/step - loss: 0.4425 - accuracy: 0.8381 - val_loss: 0.1672 - val_accuracy: 0.9254\n",
            "Epoch 88/115\n",
            "20/20 [==============================] - 0s 8ms/step - loss: 0.3721 - accuracy: 0.8571 - val_loss: 0.1860 - val_accuracy: 0.9254\n",
            "Epoch 89/115\n",
            "20/20 [==============================] - 0s 8ms/step - loss: 0.3745 - accuracy: 0.8730 - val_loss: 0.1655 - val_accuracy: 0.9254\n",
            "Epoch 90/115\n",
            "20/20 [==============================] - 0s 10ms/step - loss: 0.4004 - accuracy: 0.8540 - val_loss: 0.1683 - val_accuracy: 0.9403\n",
            "Epoch 91/115\n",
            "20/20 [==============================] - 0s 8ms/step - loss: 0.3855 - accuracy: 0.8476 - val_loss: 0.1625 - val_accuracy: 0.9403\n",
            "Epoch 92/115\n",
            "20/20 [==============================] - 0s 12ms/step - loss: 0.3446 - accuracy: 0.8635 - val_loss: 0.1767 - val_accuracy: 0.9403\n",
            "Epoch 93/115\n",
            "20/20 [==============================] - 0s 8ms/step - loss: 0.3720 - accuracy: 0.8286 - val_loss: 0.1850 - val_accuracy: 0.9104\n",
            "Epoch 94/115\n",
            "20/20 [==============================] - 0s 11ms/step - loss: 0.3743 - accuracy: 0.8444 - val_loss: 0.1586 - val_accuracy: 0.9403\n",
            "Epoch 95/115\n",
            "20/20 [==============================] - 0s 8ms/step - loss: 0.2916 - accuracy: 0.8794 - val_loss: 0.1515 - val_accuracy: 0.9552\n",
            "Epoch 96/115\n",
            "20/20 [==============================] - 0s 9ms/step - loss: 0.3188 - accuracy: 0.8540 - val_loss: 0.1438 - val_accuracy: 0.9552\n",
            "Epoch 97/115\n",
            "20/20 [==============================] - 0s 11ms/step - loss: 0.3139 - accuracy: 0.8635 - val_loss: 0.1188 - val_accuracy: 0.9552\n",
            "Epoch 98/115\n",
            "20/20 [==============================] - 0s 9ms/step - loss: 0.3292 - accuracy: 0.8794 - val_loss: 0.1241 - val_accuracy: 0.9552\n",
            "Epoch 99/115\n",
            "20/20 [==============================] - 0s 9ms/step - loss: 0.2926 - accuracy: 0.8698 - val_loss: 0.1223 - val_accuracy: 0.9552\n",
            "Epoch 100/115\n",
            "20/20 [==============================] - 0s 9ms/step - loss: 0.3792 - accuracy: 0.8508 - val_loss: 0.1307 - val_accuracy: 0.9552\n",
            "Epoch 101/115\n",
            "20/20 [==============================] - 0s 8ms/step - loss: 0.2776 - accuracy: 0.8889 - val_loss: 0.1223 - val_accuracy: 0.9552\n",
            "Epoch 102/115\n",
            "20/20 [==============================] - 0s 8ms/step - loss: 0.2407 - accuracy: 0.8889 - val_loss: 0.1098 - val_accuracy: 0.9552\n",
            "Epoch 103/115\n",
            "20/20 [==============================] - 0s 7ms/step - loss: 0.2634 - accuracy: 0.9048 - val_loss: 0.1319 - val_accuracy: 0.9403\n",
            "Epoch 104/115\n",
            "20/20 [==============================] - 0s 10ms/step - loss: 0.3152 - accuracy: 0.8857 - val_loss: 0.1369 - val_accuracy: 0.9104\n",
            "Epoch 105/115\n",
            "20/20 [==============================] - 0s 8ms/step - loss: 0.2709 - accuracy: 0.8889 - val_loss: 0.1164 - val_accuracy: 0.9552\n",
            "Epoch 106/115\n",
            "20/20 [==============================] - 0s 9ms/step - loss: 0.3221 - accuracy: 0.8698 - val_loss: 0.1212 - val_accuracy: 0.9552\n",
            "Epoch 107/115\n",
            "20/20 [==============================] - 0s 7ms/step - loss: 0.2989 - accuracy: 0.8825 - val_loss: 0.1183 - val_accuracy: 0.9552\n",
            "Epoch 108/115\n",
            "20/20 [==============================] - 0s 5ms/step - loss: 0.1987 - accuracy: 0.9302 - val_loss: 0.1083 - val_accuracy: 0.9552\n",
            "Epoch 109/115\n",
            "20/20 [==============================] - 0s 6ms/step - loss: 0.2905 - accuracy: 0.9048 - val_loss: 0.1097 - val_accuracy: 0.9552\n",
            "Epoch 110/115\n",
            "20/20 [==============================] - 0s 5ms/step - loss: 0.2706 - accuracy: 0.9016 - val_loss: 0.1037 - val_accuracy: 0.9552\n",
            "Epoch 111/115\n",
            "20/20 [==============================] - 0s 6ms/step - loss: 0.1853 - accuracy: 0.9111 - val_loss: 0.1202 - val_accuracy: 0.9403\n",
            "Epoch 112/115\n",
            "20/20 [==============================] - 0s 5ms/step - loss: 0.2435 - accuracy: 0.9016 - val_loss: 0.1062 - val_accuracy: 0.9552\n",
            "Epoch 113/115\n",
            "20/20 [==============================] - 0s 7ms/step - loss: 0.2292 - accuracy: 0.9206 - val_loss: 0.1025 - val_accuracy: 0.9552\n",
            "Epoch 114/115\n",
            "20/20 [==============================] - 0s 6ms/step - loss: 0.1571 - accuracy: 0.9460 - val_loss: 0.0985 - val_accuracy: 0.9552\n",
            "Epoch 115/115\n",
            "20/20 [==============================] - 0s 5ms/step - loss: 0.2083 - accuracy: 0.9111 - val_loss: 0.0850 - val_accuracy: 0.9552\n"
          ]
        }
      ]
    },
    {
      "cell_type": "markdown",
      "source": [
        "### Testing precision score, recall score and accuracy score\n",
        "\n"
      ],
      "metadata": {
        "id": "EjXPFNrdKzgR"
      }
    },
    {
      "cell_type": "code",
      "source": [
        "birds = [\"cinereous_tinamou\", \"great_tinamou\", \"brown_tinamu\"]"
      ],
      "metadata": {
        "id": "9_s-nsLfCM9O"
      },
      "execution_count": 12,
      "outputs": []
    },
    {
      "cell_type": "markdown",
      "source": [
        "###Predicting on the test set"
      ],
      "metadata": {
        "id": "lQEF7M4pLab4"
      }
    },
    {
      "cell_type": "code",
      "source": [
        "y_pred = bird_model.predict(X_test)\n",
        "y_pred_classes = np.argmax(y_pred, axis=1)\n",
        "y_true = np.argmax(y_test, axis=1)"
      ],
      "metadata": {
        "colab": {
          "base_uri": "https://localhost:8080/"
        },
        "id": "l2V-JHq7LVZX",
        "outputId": "871bec95-f30a-42ef-9b54-fc35762549d3"
      },
      "execution_count": 13,
      "outputs": [
        {
          "output_type": "stream",
          "name": "stdout",
          "text": [
            "3/3 [==============================] - 0s 5ms/step\n"
          ]
        }
      ]
    },
    {
      "cell_type": "markdown",
      "source": [
        "###Calculating evaluation metrics for each class"
      ],
      "metadata": {
        "id": "LZFeur67LfN5"
      }
    },
    {
      "cell_type": "code",
      "source": [
        "class_report = classification_report(y_true, y_pred_classes, target_names=birds, digits=4)\n",
        "accuracy = accuracy_score(y_true, y_pred_classes)\n",
        "\n",
        "precision = precision_score(y_true, y_pred_classes, average=None, labels=[0, 1, 2])\n",
        "recall = recall_score(y_true, y_pred_classes, average=None, labels=[0, 1, 2])\n",
        "accuracy_per_class = [sum((y_true == i) & (y_pred_classes == i)) / sum(y_true == i) for i in range(3)]\n"
      ],
      "metadata": {
        "id": "lmXutP8OLVoI"
      },
      "execution_count": 14,
      "outputs": []
    },
    {
      "cell_type": "markdown",
      "source": [
        "###Display results"
      ],
      "metadata": {
        "id": "74lprhTYS1Mb"
      }
    },
    {
      "cell_type": "code",
      "source": [
        "print(f'Classification Report:\\n{class_report}')\n",
        "print(f'Overall Accuracy: {accuracy:.4f}')"
      ],
      "metadata": {
        "colab": {
          "base_uri": "https://localhost:8080/"
        },
        "id": "SL1Smy3pARt_",
        "outputId": "e7840c02-fdce-4690-ae56-c4f21f252334"
      },
      "execution_count": 15,
      "outputs": [
        {
          "output_type": "stream",
          "name": "stdout",
          "text": [
            "Classification Report:\n",
            "                   precision    recall  f1-score   support\n",
            "\n",
            "cinereous_tinamou     1.0000    0.9091    0.9524        22\n",
            "    great_tinamou     0.9600    1.0000    0.9796        24\n",
            "     brown_tinamu     0.9565    1.0000    0.9778        22\n",
            "\n",
            "         accuracy                         0.9706        68\n",
            "        macro avg     0.9722    0.9697    0.9699        68\n",
            "     weighted avg     0.9718    0.9706    0.9702        68\n",
            "\n",
            "Overall Accuracy: 0.9706\n"
          ]
        }
      ]
    },
    {
      "cell_type": "markdown",
      "source": [
        "###Saving and downloading the model"
      ],
      "metadata": {
        "id": "VWi2Ej54J9sy"
      }
    },
    {
      "cell_type": "code",
      "source": [
        "bird_model.save('bird_call_identifier.h5')"
      ],
      "metadata": {
        "colab": {
          "base_uri": "https://localhost:8080/"
        },
        "id": "0o0XkNW9_sv-",
        "outputId": "6e95e364-b72f-4297-cd89-0a625461044e"
      },
      "execution_count": 16,
      "outputs": [
        {
          "output_type": "stream",
          "name": "stderr",
          "text": [
            "/usr/local/lib/python3.10/dist-packages/keras/src/engine/training.py:3103: UserWarning: You are saving your model as an HDF5 file via `model.save()`. This file format is considered legacy. We recommend using instead the native Keras format, e.g. `model.save('my_model.keras')`.\n",
            "  saving_api.save_model(\n"
          ]
        }
      ]
    },
    {
      "cell_type": "code",
      "source": [
        "from google.colab import files\n",
        "files.download(\"bird_call_identifier.h5\")"
      ],
      "metadata": {
        "colab": {
          "base_uri": "https://localhost:8080/",
          "height": 17
        },
        "id": "2uBZG4XEKGf4",
        "outputId": "3fb5a190-9c60-45f6-80f1-bcc3f0700221"
      },
      "execution_count": 17,
      "outputs": [
        {
          "output_type": "display_data",
          "data": {
            "text/plain": [
              "<IPython.core.display.Javascript object>"
            ],
            "application/javascript": [
              "\n",
              "    async function download(id, filename, size) {\n",
              "      if (!google.colab.kernel.accessAllowed) {\n",
              "        return;\n",
              "      }\n",
              "      const div = document.createElement('div');\n",
              "      const label = document.createElement('label');\n",
              "      label.textContent = `Downloading \"${filename}\": `;\n",
              "      div.appendChild(label);\n",
              "      const progress = document.createElement('progress');\n",
              "      progress.max = size;\n",
              "      div.appendChild(progress);\n",
              "      document.body.appendChild(div);\n",
              "\n",
              "      const buffers = [];\n",
              "      let downloaded = 0;\n",
              "\n",
              "      const channel = await google.colab.kernel.comms.open(id);\n",
              "      // Send a message to notify the kernel that we're ready.\n",
              "      channel.send({})\n",
              "\n",
              "      for await (const message of channel.messages) {\n",
              "        // Send a message to notify the kernel that we're ready.\n",
              "        channel.send({})\n",
              "        if (message.buffers) {\n",
              "          for (const buffer of message.buffers) {\n",
              "            buffers.push(buffer);\n",
              "            downloaded += buffer.byteLength;\n",
              "            progress.value = downloaded;\n",
              "          }\n",
              "        }\n",
              "      }\n",
              "      const blob = new Blob(buffers, {type: 'application/binary'});\n",
              "      const a = document.createElement('a');\n",
              "      a.href = window.URL.createObjectURL(blob);\n",
              "      a.download = filename;\n",
              "      div.appendChild(a);\n",
              "      a.click();\n",
              "      div.remove();\n",
              "    }\n",
              "  "
            ]
          },
          "metadata": {}
        },
        {
          "output_type": "display_data",
          "data": {
            "text/plain": [
              "<IPython.core.display.Javascript object>"
            ],
            "application/javascript": [
              "download(\"download_fb926b4d-3732-4c31-8eb0-0893fdce1729\", \"bird_call_identifier.h5\", 376208)"
            ]
          },
          "metadata": {}
        }
      ]
    }
  ]
}