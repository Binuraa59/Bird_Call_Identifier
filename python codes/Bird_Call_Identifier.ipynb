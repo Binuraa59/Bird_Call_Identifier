{
  "nbformat": 4,
  "nbformat_minor": 0,
  "metadata": {
    "colab": {
      "provenance": []
    },
    "kernelspec": {
      "name": "python3",
      "display_name": "Python 3"
    },
    "language_info": {
      "name": "python"
    }
  },
  "cells": [
    {
      "cell_type": "markdown",
      "source": [
        "##Neural Network for Bird Call Identifier"
      ],
      "metadata": {
        "id": "clFdjIkgImTW"
      }
    },
    {
      "cell_type": "markdown",
      "source": [
        "###Importing the libraries"
      ],
      "metadata": {
        "id": "2xL0AFgwCt-o"
      }
    },
    {
      "cell_type": "code",
      "execution_count": 1,
      "metadata": {
        "id": "9qAywgaA-8dQ"
      },
      "outputs": [],
      "source": [
        "import numpy as np\n",
        "from sklearn.model_selection import train_test_split\n",
        "import tensorflow as tf\n",
        "from tensorflow.keras.models import Sequential\n",
        "from tensorflow.keras.layers import Dense, Dropout\n",
        "from tensorflow.keras.utils import to_categorical\n",
        "from sklearn.metrics import precision_score, recall_score, accuracy_score, classification_report"
      ]
    },
    {
      "cell_type": "markdown",
      "source": [
        "##Part 1 - Data Preprocessing"
      ],
      "metadata": {
        "id": "rVMLcpnEIvj_"
      }
    },
    {
      "cell_type": "markdown",
      "source": [
        "###Importing the dataset"
      ],
      "metadata": {
        "id": "EEgaQVLPCxsm"
      }
    },
    {
      "cell_type": "code",
      "source": [
        "X = np.load('features.npy')\n",
        "y = np.load('labels.npy')"
      ],
      "metadata": {
        "id": "Wk_u_gwR_M-b"
      },
      "execution_count": 2,
      "outputs": []
    },
    {
      "cell_type": "markdown",
      "source": [
        "###Split dataset to train,validation and test sets\n",
        "\n",
        "---\n",
        "\n"
      ],
      "metadata": {
        "id": "M-i-VHC3E2yP"
      }
    },
    {
      "cell_type": "code",
      "source": [
        "X_train, X_temp, y_train, y_temp = train_test_split(X, y, test_size=0.3, random_state=32)\n",
        "X_val, X_test, y_val, y_test = train_test_split(X_temp, y_temp, test_size=0.5, random_state=32)"
      ],
      "metadata": {
        "id": "lLnP9pPO_NGL"
      },
      "execution_count": 3,
      "outputs": []
    },
    {
      "cell_type": "code",
      "source": [
        "print(f\"Training set size: {X_train.shape[0]}\")\n",
        "print(f\"Validation set size: {X_val.shape[0]}\")\n",
        "print(f\"Test set size: {X_test.shape[0]}\")"
      ],
      "metadata": {
        "colab": {
          "base_uri": "https://localhost:8080/"
        },
        "id": "973hHIkn_NMC",
        "outputId": "f6602dfc-7f93-4fed-b1af-77e5ce7e2236"
      },
      "execution_count": 4,
      "outputs": [
        {
          "output_type": "stream",
          "name": "stdout",
          "text": [
            "Training set size: 315\n",
            "Validation set size: 67\n",
            "Test set size: 68\n"
          ]
        }
      ]
    },
    {
      "cell_type": "markdown",
      "source": [
        "###One-hot encode for categorical data"
      ],
      "metadata": {
        "id": "TdYj9vEzCyQ3"
      }
    },
    {
      "cell_type": "code",
      "source": [
        "y_train = to_categorical(y_train, num_classes=3)\n",
        "y_val = to_categorical(y_val, num_classes=3)\n",
        "y_test = to_categorical(y_test, num_classes=3)"
      ],
      "metadata": {
        "id": "xrdI2Rd-_ZW9"
      },
      "execution_count": 5,
      "outputs": []
    },
    {
      "cell_type": "markdown",
      "source": [
        "##Part 2 - Building the Neural Network"
      ],
      "metadata": {
        "id": "5mjydWtwI714"
      }
    },
    {
      "cell_type": "markdown",
      "source": [
        "###Initializing the Neural Network"
      ],
      "metadata": {
        "id": "qfWX8gBlFiW9"
      }
    },
    {
      "cell_type": "code",
      "source": [
        "bird_model = Sequential()"
      ],
      "metadata": {
        "id": "LfuP-K9w_Zct"
      },
      "execution_count": 6,
      "outputs": []
    },
    {
      "cell_type": "markdown",
      "source": [
        "###Adding the input layer and the first hidden layer"
      ],
      "metadata": {
        "id": "PMAakJHVJXxg"
      }
    },
    {
      "cell_type": "code",
      "source": [
        "bird_model.add(Dense(200, input_shape=(X_train.shape[1],), activation='relu'))\n",
        "bird_model.add(Dropout(0.5))"
      ],
      "metadata": {
        "id": "9mU77bomJE1B"
      },
      "execution_count": 7,
      "outputs": []
    },
    {
      "cell_type": "markdown",
      "source": [
        "###Adding the second hidden layer"
      ],
      "metadata": {
        "id": "XigQpI31Jf7J"
      }
    },
    {
      "cell_type": "code",
      "source": [
        "bird_model.add(Dense(100, activation='relu'))\n",
        "bird_model.add(Dropout(0.5))"
      ],
      "metadata": {
        "id": "fOHhx0zJJdOH"
      },
      "execution_count": 8,
      "outputs": []
    },
    {
      "cell_type": "markdown",
      "source": [
        "###Adding the output layer"
      ],
      "metadata": {
        "id": "e9OvtRssJonA"
      }
    },
    {
      "cell_type": "code",
      "source": [
        "bird_model.add(Dense(3, activation='softmax'))"
      ],
      "metadata": {
        "id": "G1HkFwErJdTv"
      },
      "execution_count": 9,
      "outputs": []
    },
    {
      "cell_type": "markdown",
      "source": [
        "##Part 3 - Training the Neural Network"
      ],
      "metadata": {
        "id": "K18ZHzDhJu4C"
      }
    },
    {
      "cell_type": "markdown",
      "source": [
        "###Compiling the Neural Network"
      ],
      "metadata": {
        "id": "x28e0kY7JwWZ"
      }
    },
    {
      "cell_type": "code",
      "source": [
        "bird_model.compile(loss='categorical_crossentropy', optimizer='adam', metrics=['accuracy'])"
      ],
      "metadata": {
        "id": "IRk5Qvvf_pTd"
      },
      "execution_count": 10,
      "outputs": []
    },
    {
      "cell_type": "markdown",
      "source": [
        "###Training the ANN on the Training set"
      ],
      "metadata": {
        "id": "dsnFA1j2J4LQ"
      }
    },
    {
      "cell_type": "code",
      "source": [
        "history = bird_model.fit(X_train, y_train, validation_data=(X_val, y_val), epochs=100, batch_size=16)"
      ],
      "metadata": {
        "colab": {
          "base_uri": "https://localhost:8080/"
        },
        "id": "Hr3pehzt_sp-",
        "outputId": "3853cc6b-6043-4368-c3aa-6cf3592fe17a"
      },
      "execution_count": 11,
      "outputs": [
        {
          "output_type": "stream",
          "name": "stdout",
          "text": [
            "Epoch 1/100\n",
            "20/20 [==============================] - 1s 16ms/step - loss: 29.2840 - accuracy: 0.3397 - val_loss: 4.3233 - val_accuracy: 0.5075\n",
            "Epoch 2/100\n",
            "20/20 [==============================] - 0s 5ms/step - loss: 15.6535 - accuracy: 0.3524 - val_loss: 1.8156 - val_accuracy: 0.5373\n",
            "Epoch 3/100\n",
            "20/20 [==============================] - 0s 4ms/step - loss: 11.3545 - accuracy: 0.3778 - val_loss: 0.7873 - val_accuracy: 0.6269\n",
            "Epoch 4/100\n",
            "20/20 [==============================] - 0s 4ms/step - loss: 8.1113 - accuracy: 0.4127 - val_loss: 0.9353 - val_accuracy: 0.5672\n",
            "Epoch 5/100\n",
            "20/20 [==============================] - 0s 4ms/step - loss: 5.5076 - accuracy: 0.4190 - val_loss: 0.8141 - val_accuracy: 0.6119\n",
            "Epoch 6/100\n",
            "20/20 [==============================] - 0s 4ms/step - loss: 4.6870 - accuracy: 0.4032 - val_loss: 0.8144 - val_accuracy: 0.6866\n",
            "Epoch 7/100\n",
            "20/20 [==============================] - 0s 5ms/step - loss: 3.1949 - accuracy: 0.4286 - val_loss: 0.9200 - val_accuracy: 0.5075\n",
            "Epoch 8/100\n",
            "20/20 [==============================] - 0s 5ms/step - loss: 2.7497 - accuracy: 0.4603 - val_loss: 0.9588 - val_accuracy: 0.6269\n",
            "Epoch 9/100\n",
            "20/20 [==============================] - 0s 6ms/step - loss: 2.5851 - accuracy: 0.3968 - val_loss: 0.9698 - val_accuracy: 0.6716\n",
            "Epoch 10/100\n",
            "20/20 [==============================] - 0s 6ms/step - loss: 2.1135 - accuracy: 0.4063 - val_loss: 1.0057 - val_accuracy: 0.6418\n",
            "Epoch 11/100\n",
            "20/20 [==============================] - 0s 4ms/step - loss: 1.9652 - accuracy: 0.3651 - val_loss: 1.0184 - val_accuracy: 0.6418\n",
            "Epoch 12/100\n",
            "20/20 [==============================] - 0s 4ms/step - loss: 1.7118 - accuracy: 0.4286 - val_loss: 1.0371 - val_accuracy: 0.6119\n",
            "Epoch 13/100\n",
            "20/20 [==============================] - 0s 5ms/step - loss: 1.4423 - accuracy: 0.4317 - val_loss: 1.0511 - val_accuracy: 0.5672\n",
            "Epoch 14/100\n",
            "20/20 [==============================] - 0s 4ms/step - loss: 1.3339 - accuracy: 0.4127 - val_loss: 1.0444 - val_accuracy: 0.6418\n",
            "Epoch 15/100\n",
            "20/20 [==============================] - 0s 5ms/step - loss: 1.2460 - accuracy: 0.4127 - val_loss: 1.0513 - val_accuracy: 0.6269\n",
            "Epoch 16/100\n",
            "20/20 [==============================] - 0s 5ms/step - loss: 1.2423 - accuracy: 0.4603 - val_loss: 1.0506 - val_accuracy: 0.5672\n",
            "Epoch 17/100\n",
            "20/20 [==============================] - 0s 4ms/step - loss: 1.2903 - accuracy: 0.4190 - val_loss: 1.0318 - val_accuracy: 0.6418\n",
            "Epoch 18/100\n",
            "20/20 [==============================] - 0s 5ms/step - loss: 1.1592 - accuracy: 0.4349 - val_loss: 0.9775 - val_accuracy: 0.6716\n",
            "Epoch 19/100\n",
            "20/20 [==============================] - 0s 7ms/step - loss: 1.1835 - accuracy: 0.4286 - val_loss: 1.0066 - val_accuracy: 0.6567\n",
            "Epoch 20/100\n",
            "20/20 [==============================] - 0s 6ms/step - loss: 1.2599 - accuracy: 0.4540 - val_loss: 0.9862 - val_accuracy: 0.6866\n",
            "Epoch 21/100\n",
            "20/20 [==============================] - 0s 4ms/step - loss: 1.2948 - accuracy: 0.4508 - val_loss: 1.0117 - val_accuracy: 0.6567\n",
            "Epoch 22/100\n",
            "20/20 [==============================] - 0s 5ms/step - loss: 1.0618 - accuracy: 0.4857 - val_loss: 1.0174 - val_accuracy: 0.6119\n",
            "Epoch 23/100\n",
            "20/20 [==============================] - 0s 5ms/step - loss: 1.1956 - accuracy: 0.4349 - val_loss: 1.0064 - val_accuracy: 0.5970\n",
            "Epoch 24/100\n",
            "20/20 [==============================] - 0s 5ms/step - loss: 1.2252 - accuracy: 0.4540 - val_loss: 0.9737 - val_accuracy: 0.6567\n",
            "Epoch 25/100\n",
            "20/20 [==============================] - 0s 4ms/step - loss: 1.0853 - accuracy: 0.4254 - val_loss: 1.0398 - val_accuracy: 0.5970\n",
            "Epoch 26/100\n",
            "20/20 [==============================] - 0s 4ms/step - loss: 1.1992 - accuracy: 0.4889 - val_loss: 1.0088 - val_accuracy: 0.6716\n",
            "Epoch 27/100\n",
            "20/20 [==============================] - 0s 5ms/step - loss: 1.1354 - accuracy: 0.4921 - val_loss: 0.9596 - val_accuracy: 0.7015\n",
            "Epoch 28/100\n",
            "20/20 [==============================] - 0s 4ms/step - loss: 0.9429 - accuracy: 0.5397 - val_loss: 0.9280 - val_accuracy: 0.7313\n",
            "Epoch 29/100\n",
            "20/20 [==============================] - 0s 6ms/step - loss: 1.0459 - accuracy: 0.4952 - val_loss: 0.8788 - val_accuracy: 0.7015\n",
            "Epoch 30/100\n",
            "20/20 [==============================] - 0s 5ms/step - loss: 0.9698 - accuracy: 0.5302 - val_loss: 0.8973 - val_accuracy: 0.7164\n",
            "Epoch 31/100\n",
            "20/20 [==============================] - 0s 4ms/step - loss: 1.0170 - accuracy: 0.4889 - val_loss: 0.9045 - val_accuracy: 0.7164\n",
            "Epoch 32/100\n",
            "20/20 [==============================] - 0s 4ms/step - loss: 1.0369 - accuracy: 0.5238 - val_loss: 0.8655 - val_accuracy: 0.7015\n",
            "Epoch 33/100\n",
            "20/20 [==============================] - 0s 4ms/step - loss: 1.0013 - accuracy: 0.5365 - val_loss: 0.8571 - val_accuracy: 0.7015\n",
            "Epoch 34/100\n",
            "20/20 [==============================] - 0s 4ms/step - loss: 1.0560 - accuracy: 0.4794 - val_loss: 0.8617 - val_accuracy: 0.7164\n",
            "Epoch 35/100\n",
            "20/20 [==============================] - 0s 4ms/step - loss: 0.9626 - accuracy: 0.5333 - val_loss: 0.8053 - val_accuracy: 0.7015\n",
            "Epoch 36/100\n",
            "20/20 [==============================] - 0s 5ms/step - loss: 1.0986 - accuracy: 0.5460 - val_loss: 0.8616 - val_accuracy: 0.5970\n",
            "Epoch 37/100\n",
            "20/20 [==============================] - 0s 4ms/step - loss: 0.9889 - accuracy: 0.4698 - val_loss: 0.8531 - val_accuracy: 0.7015\n",
            "Epoch 38/100\n",
            "20/20 [==============================] - 0s 4ms/step - loss: 0.9088 - accuracy: 0.5143 - val_loss: 0.8123 - val_accuracy: 0.7164\n",
            "Epoch 39/100\n",
            "20/20 [==============================] - 0s 7ms/step - loss: 0.9551 - accuracy: 0.5397 - val_loss: 0.8312 - val_accuracy: 0.6269\n",
            "Epoch 40/100\n",
            "20/20 [==============================] - 0s 8ms/step - loss: 0.9270 - accuracy: 0.5746 - val_loss: 0.7492 - val_accuracy: 0.7015\n",
            "Epoch 41/100\n",
            "20/20 [==============================] - 0s 7ms/step - loss: 0.9196 - accuracy: 0.5333 - val_loss: 0.8172 - val_accuracy: 0.7761\n",
            "Epoch 42/100\n",
            "20/20 [==============================] - 0s 6ms/step - loss: 0.9208 - accuracy: 0.5778 - val_loss: 0.7268 - val_accuracy: 0.7015\n",
            "Epoch 43/100\n",
            "20/20 [==============================] - 0s 7ms/step - loss: 0.8759 - accuracy: 0.5619 - val_loss: 0.7454 - val_accuracy: 0.6567\n",
            "Epoch 44/100\n",
            "20/20 [==============================] - 0s 7ms/step - loss: 0.8697 - accuracy: 0.5619 - val_loss: 0.7627 - val_accuracy: 0.8060\n",
            "Epoch 45/100\n",
            "20/20 [==============================] - 0s 7ms/step - loss: 0.8523 - accuracy: 0.5937 - val_loss: 0.7506 - val_accuracy: 0.7313\n",
            "Epoch 46/100\n",
            "20/20 [==============================] - 0s 8ms/step - loss: 0.8407 - accuracy: 0.5683 - val_loss: 0.6983 - val_accuracy: 0.7313\n",
            "Epoch 47/100\n",
            "20/20 [==============================] - 0s 7ms/step - loss: 0.8510 - accuracy: 0.6063 - val_loss: 0.7268 - val_accuracy: 0.6716\n",
            "Epoch 48/100\n",
            "20/20 [==============================] - 0s 7ms/step - loss: 0.8657 - accuracy: 0.5873 - val_loss: 0.5988 - val_accuracy: 0.7015\n",
            "Epoch 49/100\n",
            "20/20 [==============================] - 0s 6ms/step - loss: 0.8387 - accuracy: 0.5968 - val_loss: 0.6606 - val_accuracy: 0.7761\n",
            "Epoch 50/100\n",
            "20/20 [==============================] - 0s 6ms/step - loss: 0.8708 - accuracy: 0.6413 - val_loss: 0.6655 - val_accuracy: 0.8358\n",
            "Epoch 51/100\n",
            "20/20 [==============================] - 0s 6ms/step - loss: 0.8641 - accuracy: 0.5810 - val_loss: 0.6515 - val_accuracy: 0.7761\n",
            "Epoch 52/100\n",
            "20/20 [==============================] - 0s 6ms/step - loss: 0.8081 - accuracy: 0.6127 - val_loss: 0.6515 - val_accuracy: 0.7910\n",
            "Epoch 53/100\n",
            "20/20 [==============================] - 0s 8ms/step - loss: 0.7937 - accuracy: 0.6317 - val_loss: 0.6400 - val_accuracy: 0.8209\n",
            "Epoch 54/100\n",
            "20/20 [==============================] - 0s 9ms/step - loss: 0.8423 - accuracy: 0.6000 - val_loss: 0.6040 - val_accuracy: 0.8060\n",
            "Epoch 55/100\n",
            "20/20 [==============================] - 0s 8ms/step - loss: 0.7716 - accuracy: 0.6349 - val_loss: 0.6388 - val_accuracy: 0.8209\n",
            "Epoch 56/100\n",
            "20/20 [==============================] - 0s 7ms/step - loss: 0.8004 - accuracy: 0.6254 - val_loss: 0.6249 - val_accuracy: 0.8060\n",
            "Epoch 57/100\n",
            "20/20 [==============================] - 0s 7ms/step - loss: 0.7265 - accuracy: 0.6476 - val_loss: 0.5742 - val_accuracy: 0.8358\n",
            "Epoch 58/100\n",
            "20/20 [==============================] - 0s 7ms/step - loss: 0.8186 - accuracy: 0.6508 - val_loss: 0.5692 - val_accuracy: 0.8955\n",
            "Epoch 59/100\n",
            "20/20 [==============================] - 0s 9ms/step - loss: 0.7756 - accuracy: 0.6571 - val_loss: 0.5375 - val_accuracy: 0.7910\n",
            "Epoch 60/100\n",
            "20/20 [==============================] - 0s 9ms/step - loss: 0.7337 - accuracy: 0.6730 - val_loss: 0.5579 - val_accuracy: 0.7910\n",
            "Epoch 61/100\n",
            "20/20 [==============================] - 0s 8ms/step - loss: 0.7215 - accuracy: 0.6635 - val_loss: 0.5729 - val_accuracy: 0.8657\n",
            "Epoch 62/100\n",
            "20/20 [==============================] - 0s 7ms/step - loss: 0.7202 - accuracy: 0.6286 - val_loss: 0.5655 - val_accuracy: 0.7910\n",
            "Epoch 63/100\n",
            "20/20 [==============================] - 0s 7ms/step - loss: 0.6709 - accuracy: 0.7175 - val_loss: 0.5285 - val_accuracy: 0.8657\n",
            "Epoch 64/100\n",
            "20/20 [==============================] - 0s 4ms/step - loss: 0.7521 - accuracy: 0.6508 - val_loss: 0.4939 - val_accuracy: 0.7612\n",
            "Epoch 65/100\n",
            "20/20 [==============================] - 0s 4ms/step - loss: 0.6913 - accuracy: 0.6762 - val_loss: 0.5177 - val_accuracy: 0.8358\n",
            "Epoch 66/100\n",
            "20/20 [==============================] - 0s 5ms/step - loss: 0.6638 - accuracy: 0.6635 - val_loss: 0.5190 - val_accuracy: 0.8657\n",
            "Epoch 67/100\n",
            "20/20 [==============================] - 0s 6ms/step - loss: 0.6931 - accuracy: 0.6889 - val_loss: 0.4836 - val_accuracy: 0.8657\n",
            "Epoch 68/100\n",
            "20/20 [==============================] - 0s 5ms/step - loss: 0.6816 - accuracy: 0.6825 - val_loss: 0.4850 - val_accuracy: 0.8955\n",
            "Epoch 69/100\n",
            "20/20 [==============================] - 0s 6ms/step - loss: 0.6782 - accuracy: 0.7079 - val_loss: 0.4770 - val_accuracy: 0.8806\n",
            "Epoch 70/100\n",
            "20/20 [==============================] - 0s 5ms/step - loss: 0.6363 - accuracy: 0.6952 - val_loss: 0.4645 - val_accuracy: 0.8358\n",
            "Epoch 71/100\n",
            "20/20 [==============================] - 0s 5ms/step - loss: 0.5977 - accuracy: 0.7302 - val_loss: 0.4346 - val_accuracy: 0.8507\n",
            "Epoch 72/100\n",
            "20/20 [==============================] - 0s 4ms/step - loss: 0.6426 - accuracy: 0.6952 - val_loss: 0.3916 - val_accuracy: 0.9104\n",
            "Epoch 73/100\n",
            "20/20 [==============================] - 0s 5ms/step - loss: 0.6465 - accuracy: 0.7460 - val_loss: 0.4184 - val_accuracy: 0.8955\n",
            "Epoch 74/100\n",
            "20/20 [==============================] - 0s 4ms/step - loss: 0.6665 - accuracy: 0.7111 - val_loss: 0.4049 - val_accuracy: 0.8806\n",
            "Epoch 75/100\n",
            "20/20 [==============================] - 0s 5ms/step - loss: 0.5764 - accuracy: 0.7651 - val_loss: 0.3713 - val_accuracy: 0.9104\n",
            "Epoch 76/100\n",
            "20/20 [==============================] - 0s 5ms/step - loss: 0.6078 - accuracy: 0.7524 - val_loss: 0.3730 - val_accuracy: 0.8806\n",
            "Epoch 77/100\n",
            "20/20 [==============================] - 0s 6ms/step - loss: 0.6069 - accuracy: 0.7683 - val_loss: 0.3546 - val_accuracy: 0.8955\n",
            "Epoch 78/100\n",
            "20/20 [==============================] - 0s 5ms/step - loss: 0.5732 - accuracy: 0.7556 - val_loss: 0.3550 - val_accuracy: 0.8955\n",
            "Epoch 79/100\n",
            "20/20 [==============================] - 0s 5ms/step - loss: 0.6219 - accuracy: 0.7429 - val_loss: 0.3401 - val_accuracy: 0.8955\n",
            "Epoch 80/100\n",
            "20/20 [==============================] - 0s 6ms/step - loss: 0.6055 - accuracy: 0.7206 - val_loss: 0.3511 - val_accuracy: 0.8955\n",
            "Epoch 81/100\n",
            "20/20 [==============================] - 0s 4ms/step - loss: 0.6042 - accuracy: 0.7111 - val_loss: 0.3844 - val_accuracy: 0.8955\n",
            "Epoch 82/100\n",
            "20/20 [==============================] - 0s 5ms/step - loss: 0.5404 - accuracy: 0.7683 - val_loss: 0.3369 - val_accuracy: 0.9104\n",
            "Epoch 83/100\n",
            "20/20 [==============================] - 0s 4ms/step - loss: 0.5485 - accuracy: 0.7556 - val_loss: 0.2688 - val_accuracy: 0.8955\n",
            "Epoch 84/100\n",
            "20/20 [==============================] - 0s 4ms/step - loss: 0.5576 - accuracy: 0.7619 - val_loss: 0.3174 - val_accuracy: 0.9104\n",
            "Epoch 85/100\n",
            "20/20 [==============================] - 0s 6ms/step - loss: 0.4964 - accuracy: 0.7683 - val_loss: 0.2752 - val_accuracy: 0.9104\n",
            "Epoch 86/100\n",
            "20/20 [==============================] - 0s 7ms/step - loss: 0.5101 - accuracy: 0.7873 - val_loss: 0.2965 - val_accuracy: 0.8955\n",
            "Epoch 87/100\n",
            "20/20 [==============================] - 0s 5ms/step - loss: 0.4630 - accuracy: 0.7587 - val_loss: 0.2640 - val_accuracy: 0.9104\n",
            "Epoch 88/100\n",
            "20/20 [==============================] - 0s 4ms/step - loss: 0.5543 - accuracy: 0.7746 - val_loss: 0.2642 - val_accuracy: 0.9104\n",
            "Epoch 89/100\n",
            "20/20 [==============================] - 0s 6ms/step - loss: 0.4456 - accuracy: 0.8032 - val_loss: 0.2403 - val_accuracy: 0.9104\n",
            "Epoch 90/100\n",
            "20/20 [==============================] - 0s 5ms/step - loss: 0.4666 - accuracy: 0.8032 - val_loss: 0.2268 - val_accuracy: 0.9254\n",
            "Epoch 91/100\n",
            "20/20 [==============================] - 0s 4ms/step - loss: 0.4655 - accuracy: 0.8222 - val_loss: 0.2045 - val_accuracy: 0.9254\n",
            "Epoch 92/100\n",
            "20/20 [==============================] - 0s 5ms/step - loss: 0.3892 - accuracy: 0.8381 - val_loss: 0.1790 - val_accuracy: 0.9254\n",
            "Epoch 93/100\n",
            "20/20 [==============================] - 0s 4ms/step - loss: 0.4721 - accuracy: 0.7841 - val_loss: 0.2202 - val_accuracy: 0.9104\n",
            "Epoch 94/100\n",
            "20/20 [==============================] - 0s 5ms/step - loss: 0.5451 - accuracy: 0.7778 - val_loss: 0.2224 - val_accuracy: 0.9254\n",
            "Epoch 95/100\n",
            "20/20 [==============================] - 0s 6ms/step - loss: 0.4656 - accuracy: 0.7841 - val_loss: 0.2179 - val_accuracy: 0.9254\n",
            "Epoch 96/100\n",
            "20/20 [==============================] - 0s 5ms/step - loss: 0.4730 - accuracy: 0.8127 - val_loss: 0.2195 - val_accuracy: 0.9254\n",
            "Epoch 97/100\n",
            "20/20 [==============================] - 0s 5ms/step - loss: 0.3856 - accuracy: 0.8444 - val_loss: 0.2078 - val_accuracy: 0.9254\n",
            "Epoch 98/100\n",
            "20/20 [==============================] - 0s 5ms/step - loss: 0.4400 - accuracy: 0.8127 - val_loss: 0.1830 - val_accuracy: 0.9254\n",
            "Epoch 99/100\n",
            "20/20 [==============================] - 0s 6ms/step - loss: 0.3558 - accuracy: 0.8603 - val_loss: 0.1700 - val_accuracy: 0.9403\n",
            "Epoch 100/100\n",
            "20/20 [==============================] - 0s 4ms/step - loss: 0.4558 - accuracy: 0.8317 - val_loss: 0.1509 - val_accuracy: 0.9403\n"
          ]
        }
      ]
    },
    {
      "cell_type": "markdown",
      "source": [
        "### Testing precision score, recall score and accuracy score\n",
        "\n"
      ],
      "metadata": {
        "id": "EjXPFNrdKzgR"
      }
    },
    {
      "cell_type": "code",
      "source": [
        "birds = [\"cinereous_tinamou\", \"great_tinamou\", \"brown_tinamu\"]"
      ],
      "metadata": {
        "id": "9_s-nsLfCM9O"
      },
      "execution_count": 12,
      "outputs": []
    },
    {
      "cell_type": "markdown",
      "source": [
        "###Predicting on the test set"
      ],
      "metadata": {
        "id": "lQEF7M4pLab4"
      }
    },
    {
      "cell_type": "code",
      "source": [
        "y_pred = bird_model.predict(X_test)\n",
        "y_pred_classes = np.argmax(y_pred, axis=1)\n",
        "y_true = np.argmax(y_test, axis=1)"
      ],
      "metadata": {
        "colab": {
          "base_uri": "https://localhost:8080/"
        },
        "id": "l2V-JHq7LVZX",
        "outputId": "abacb3c2-0c26-4442-d698-bbfdd8397198"
      },
      "execution_count": 13,
      "outputs": [
        {
          "output_type": "stream",
          "name": "stdout",
          "text": [
            "3/3 [==============================] - 0s 4ms/step\n"
          ]
        }
      ]
    },
    {
      "cell_type": "markdown",
      "source": [
        "###Calculating evaluation metrics for each class"
      ],
      "metadata": {
        "id": "LZFeur67LfN5"
      }
    },
    {
      "cell_type": "code",
      "source": [
        "class_report = classification_report(y_true, y_pred_classes, target_names=birds, digits=4)\n",
        "accuracy = accuracy_score(y_true, y_pred_classes)\n",
        "\n",
        "precision = precision_score(y_true, y_pred_classes, average=None, labels=[0, 1, 2])\n",
        "recall = recall_score(y_true, y_pred_classes, average=None, labels=[0, 1, 2])\n",
        "accuracy_per_class = [sum((y_true == i) & (y_pred_classes == i)) / sum(y_true == i) for i in range(3)]\n"
      ],
      "metadata": {
        "id": "lmXutP8OLVoI"
      },
      "execution_count": 14,
      "outputs": []
    },
    {
      "cell_type": "markdown",
      "source": [
        "###Display results"
      ],
      "metadata": {
        "id": "74lprhTYS1Mb"
      }
    },
    {
      "cell_type": "code",
      "source": [
        "print(f'Classification Report:\\n{class_report}')\n",
        "print(f'Overall Accuracy: {accuracy:.4f}')"
      ],
      "metadata": {
        "colab": {
          "base_uri": "https://localhost:8080/"
        },
        "id": "SL1Smy3pARt_",
        "outputId": "ec7b9715-7810-400a-d903-10b667755adc"
      },
      "execution_count": 15,
      "outputs": [
        {
          "output_type": "stream",
          "name": "stdout",
          "text": [
            "Classification Report:\n",
            "                   precision    recall  f1-score   support\n",
            "\n",
            "cinereous_tinamou     0.9474    0.8182    0.8780        22\n",
            "    great_tinamou     0.9600    1.0000    0.9796        24\n",
            "     brown_tinamu     0.8750    0.9545    0.9130        22\n",
            "\n",
            "         accuracy                         0.9265        68\n",
            "        macro avg     0.9275    0.9242    0.9236        68\n",
            "     weighted avg     0.9284    0.9265    0.9252        68\n",
            "\n",
            "Overall Accuracy: 0.9265\n"
          ]
        }
      ]
    },
    {
      "cell_type": "markdown",
      "source": [
        "###Saving and downloading the model"
      ],
      "metadata": {
        "id": "VWi2Ej54J9sy"
      }
    },
    {
      "cell_type": "code",
      "source": [
        "bird_model.save('bird_call_identifier.h5')"
      ],
      "metadata": {
        "colab": {
          "base_uri": "https://localhost:8080/"
        },
        "id": "0o0XkNW9_sv-",
        "outputId": "89e9e90e-1f1a-4f92-bfde-9e909c4c5a5b"
      },
      "execution_count": null,
      "outputs": [
        {
          "output_type": "stream",
          "name": "stderr",
          "text": [
            "/usr/local/lib/python3.10/dist-packages/keras/src/engine/training.py:3103: UserWarning: You are saving your model as an HDF5 file via `model.save()`. This file format is considered legacy. We recommend using instead the native Keras format, e.g. `model.save('my_model.keras')`.\n",
            "  saving_api.save_model(\n"
          ]
        }
      ]
    },
    {
      "cell_type": "code",
      "source": [
        "from google.colab import files\n",
        "files.download(\"bird_call_identifier.h5\")"
      ],
      "metadata": {
        "colab": {
          "base_uri": "https://localhost:8080/",
          "height": 34
        },
        "id": "2uBZG4XEKGf4",
        "outputId": "c79f1238-1e30-43b8-b7e7-8b0a2c2f1e01"
      },
      "execution_count": null,
      "outputs": [
        {
          "output_type": "display_data",
          "data": {
            "text/plain": [
              "<IPython.core.display.Javascript object>"
            ],
            "application/javascript": [
              "\n",
              "    async function download(id, filename, size) {\n",
              "      if (!google.colab.kernel.accessAllowed) {\n",
              "        return;\n",
              "      }\n",
              "      const div = document.createElement('div');\n",
              "      const label = document.createElement('label');\n",
              "      label.textContent = `Downloading \"${filename}\": `;\n",
              "      div.appendChild(label);\n",
              "      const progress = document.createElement('progress');\n",
              "      progress.max = size;\n",
              "      div.appendChild(progress);\n",
              "      document.body.appendChild(div);\n",
              "\n",
              "      const buffers = [];\n",
              "      let downloaded = 0;\n",
              "\n",
              "      const channel = await google.colab.kernel.comms.open(id);\n",
              "      // Send a message to notify the kernel that we're ready.\n",
              "      channel.send({})\n",
              "\n",
              "      for await (const message of channel.messages) {\n",
              "        // Send a message to notify the kernel that we're ready.\n",
              "        channel.send({})\n",
              "        if (message.buffers) {\n",
              "          for (const buffer of message.buffers) {\n",
              "            buffers.push(buffer);\n",
              "            downloaded += buffer.byteLength;\n",
              "            progress.value = downloaded;\n",
              "          }\n",
              "        }\n",
              "      }\n",
              "      const blob = new Blob(buffers, {type: 'application/binary'});\n",
              "      const a = document.createElement('a');\n",
              "      a.href = window.URL.createObjectURL(blob);\n",
              "      a.download = filename;\n",
              "      div.appendChild(a);\n",
              "      a.click();\n",
              "      div.remove();\n",
              "    }\n",
              "  "
            ]
          },
          "metadata": {}
        },
        {
          "output_type": "display_data",
          "data": {
            "text/plain": [
              "<IPython.core.display.Javascript object>"
            ],
            "application/javascript": [
              "download(\"download_68636486-b059-42fc-9683-fe283e1c3726\", \"bird_call_identifier.h5\", 376208)"
            ]
          },
          "metadata": {}
        }
      ]
    }
  ]
}